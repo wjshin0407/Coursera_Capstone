{
 "cells": [
  {
   "cell_type": "markdown",
   "metadata": {
    "collapsed": true
   },
   "source": [
    "# Introduction and Business Problem"
   ]
  },
  {
   "cell_type": "markdown",
   "metadata": {},
   "source": [
    "Through this project I aim to select the safest borough in Toronto based on the number of crimes, and explore the different venues located in each neighborhood that will be clustered overall using k-mean clustering.\n",
    "This report will primarily target immigrants that arrive in Toronto every year in an attempt to relocate themselves and start a new life. Safety and amenities have been selected as primary goals when selecting a neighborhood and during the research I will focus on the safest borough within Toronto through examining crime statistics and explore the 10 most common venues in each neighborhood so that the best neighborhood suited to the client’s need can be selected. As a student living in Toronto, Canada, I was able to observe thousands of immigrants settle down in various places across Toronto every year. Hopefully, this project will aid individuals or families when deciding on a neighborhood to select when looking for an apartment.\n"
   ]
  },
  {
   "cell_type": "markdown",
   "metadata": {},
   "source": []
  },
  {
   "cell_type": "markdown",
   "metadata": {},
   "source": [
    "# Data"
   ]
  },
  {
   "cell_type": "markdown",
   "metadata": {},
   "source": [
    "### The factors that will be put into consideration for this problem are:\n",
    "* The total number of crimes that have been commited in each neighbourhood during 2004 (the dataset is based on crime rates that occured in 2004)\n",
    "* The most commonly sighted venues/amenities within the neighbourhood that was selected to be the saftest\n",
    "\n",
    "### The dataset will be acquired through the following steps: \n",
    "* Preprocessing the 2004 Toronto Police Data that was accessed from Kaggle\n",
    "* Creating a new dataset of the selected neighbourhood in Toronto and generating their coordinates using Google Maps API Geocoding"
   ]
  },
  {
   "cell_type": "markdown",
   "metadata": {},
   "source": [
    "## 1) Preprocessing the 2004 Toronto Police Data that was accessed from Kaggle"
   ]
  },
  {
   "cell_type": "markdown",
   "metadata": {},
   "source": [
    "### Toronto Crime Data\n",
    "Dataset URL: https://www.kaggle.com/kapastor/toronto-police-data-crime-rates-by-neighbourhood#Homicide.csv"
   ]
  },
  {
   "cell_type": "markdown",
   "metadata": {},
   "source": [
    "### Import Library"
   ]
  },
  {
   "cell_type": "code",
   "execution_count": null,
   "metadata": {},
   "outputs": [
    {
     "name": "stdout",
     "output_type": "stream",
     "text": [
      "Solving environment: \\ "
     ]
    }
   ],
   "source": [
    "import requests # library to handle requests\n",
    "import pandas as pd # library for data analsysis\n",
    "import numpy as np # library to handle data in a vectorized manner\n",
    "import random # library for random number generation\n",
    "from bs4 import BeautifulSoup # library for web scrapping  \n",
    "\n",
    "!conda install -c conda-forge geocoder --yes\n",
    "import geocoder\n",
    "\n",
    "!conda install -c conda-forge geopy --yes \n",
    "from geopy.geocoders import Nominatim # module to convert an address into latitude and longitude values\n",
    "\n",
    "# libraries for displaying images\n",
    "from IPython.display import Image \n",
    "from IPython.core.display import HTML \n",
    "    \n",
    "# tranforming json file into a pandas dataframe library\n",
    "from pandas.io.json import json_normalize\n",
    "\n",
    "!conda install -c conda-forge folium=0.5.0 --yes\n",
    "import folium # plotting library\n",
    "\n",
    "print('Folium installed')\n",
    "print('Libraries imported.')"
   ]
  },
  {
   "cell_type": "code",
   "execution_count": null,
   "metadata": {},
   "outputs": [],
   "source": []
  }
 ],
 "metadata": {
  "kernelspec": {
   "display_name": "Python 3.6",
   "language": "python",
   "name": "python3"
  },
  "language_info": {
   "codemirror_mode": {
    "name": "ipython",
    "version": 3
   },
   "file_extension": ".py",
   "mimetype": "text/x-python",
   "name": "python",
   "nbconvert_exporter": "python",
   "pygments_lexer": "ipython3",
   "version": "3.6.8"
  }
 },
 "nbformat": 4,
 "nbformat_minor": 1
}
